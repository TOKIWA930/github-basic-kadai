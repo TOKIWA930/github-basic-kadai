{
  "nbformat": 4,
  "nbformat_minor": 0,
  "metadata": {
    "colab": {
      "provenance": []
    },
    "kernelspec": {
      "name": "python3",
      "display_name": "Python 3"
    },
    "language_info": {
      "name": "python"
    }
  },
  "cells": [
    {
      "cell_type": "code",
      "execution_count": 1,
      "metadata": {
        "id": "ySwb3nBKF9oS"
      },
      "outputs": [],
      "source": [
        "array=[\"月曜日は晴れです\",\"火曜日は雨です\",\"水曜日 は晴れです\",\"木曜日は晴れです\",\"金曜日は曇りです\",\"土曜日は曇りのち雨です\",\"日曜日は雷雨です\"]"
      ]
    },
    {
      "cell_type": "code",
      "source": [
        "dictionary={\"mon\":\"晴れ\",\"tue\":\"雨\",\"wed\":\"晴れ\",\"thu\":\"晴れ\",\"fri\":\"曇り\",\"sat\":\"曇りのち雨\",\"sun\":\"雷雨\"}"
      ],
      "metadata": {
        "id": "--qVWzbbGcPM"
      },
      "execution_count": 2,
      "outputs": []
    },
    {
      "cell_type": "code",
      "source": [
        "print(array)\n",
        "print(dictionary)"
      ],
      "metadata": {
        "colab": {
          "base_uri": "https://localhost:8080/"
        },
        "id": "NXrU3nx8Ge_V",
        "outputId": "b644ce60-ff9f-4b62-c509-9e348f63c95a"
      },
      "execution_count": 3,
      "outputs": [
        {
          "output_type": "stream",
          "name": "stdout",
          "text": [
            "['月曜日は晴れです', '火曜日は雨です', '水曜日 は晴れです', '木曜日は晴れです', '金曜日は曇りです', '土曜日は曇りのち雨です', '日曜日は雷雨です']\n",
            "{'mon': '晴れ', 'tue': '雨', 'wed': '晴れ', 'thu': '晴れ', 'fri': '曇り', 'sat': '曇りのち雨', 'sun': '雷雨'}\n"
          ]
        }
      ]
    }
  ]
}