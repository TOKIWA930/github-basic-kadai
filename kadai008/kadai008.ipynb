{
  "nbformat": 4,
  "nbformat_minor": 0,
  "metadata": {
    "colab": {
      "provenance": []
    },
    "kernelspec": {
      "name": "python3",
      "display_name": "Python 3"
    },
    "language_info": {
      "name": "python"
    }
  },
  "cells": [
    {
      "cell_type": "code",
      "execution_count": null,
      "metadata": {
        "id": "NPTzhFm_MOSp"
      },
      "outputs": [],
      "source": [
        "if"
      ]
    },
    {
      "cell_type": "code",
      "source": [
        "var =50\n",
        "\n",
        "import random\n",
        "\n",
        "var = random.randint(1,100)\n",
        "\n",
        "print(var)\n",
        "\n",
        "\n",
        "if var%15==0:\n",
        "    print(\"FizzBuzz\")\n",
        "elif var%3==0:\n",
        "    print(\"Fizz\")\n",
        "elif var%5==0:\n",
        "    print(\"Buzz\")\n",
        "else:\n",
        "    print(var)"
      ],
      "metadata": {
        "colab": {
          "base_uri": "https://localhost:8080/"
        },
        "id": "YVGCpPmrMlsV",
        "outputId": "b13e30d6-3cf9-44ca-952e-b2375d5da374"
      },
      "execution_count": 13,
      "outputs": [
        {
          "output_type": "stream",
          "name": "stdout",
          "text": [
            "10\n",
            "Buzz\n"
          ]
        }
      ]
    }
  ]
}